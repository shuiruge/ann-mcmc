{
 "cells": [
  {
   "cell_type": "code",
   "execution_count": 26,
   "metadata": {
    "collapsed": true
   },
   "outputs": [],
   "source": [
    "import sys\n",
    "sys.path.append('../sample/')\n",
    "from ann import Perceptron, NeuralNetwork\n",
    "\n",
    "sys.path.append('../../')\n",
    "import little_mcmc.sample.mcmc as mc\n",
    "\n",
    "import numpy as np\n",
    "from random import gauss, random\n",
    "from time import time\n",
    "import matplotlib.pyplot as plt"
   ]
  },
  {
   "cell_type": "markdown",
   "metadata": {},
   "source": [
    "Typing Hint:"
   ]
  },
  {
   "cell_type": "code",
   "execution_count": 27,
   "metadata": {
    "collapsed": true
   },
   "outputs": [],
   "source": [
    "from typing import List, Tuple, Mapping\n",
    "\n",
    "Array = np.array(List[float])\n",
    "Value = float"
   ]
  },
  {
   "cell_type": "markdown",
   "metadata": {},
   "source": [
    "### Set global variables:"
   ]
  },
  {
   "cell_type": "code",
   "execution_count": 36,
   "metadata": {
    "collapsed": false
   },
   "outputs": [],
   "source": [
    "# Ann\n",
    "net_size = [2, 1]\n",
    "input_size = 1\n",
    "\n",
    "\n",
    "#MCMC\n",
    "step_length = 0.05\n",
    "mcmc_threshold = 0.01\n",
    "\n",
    "chain_num = 1\n",
    "goal = 0.001\n",
    "iterations = 10 ** 3"
   ]
  },
  {
   "cell_type": "markdown",
   "metadata": {},
   "source": [
    "### Set error-function as, e.g.,"
   ]
  },
  {
   "cell_type": "code",
   "execution_count": 37,
   "metadata": {
    "collapsed": true
   },
   "outputs": [],
   "source": [
    "def error_function(outputs: Array, targets: Array) -> float:\n",
    "    \n",
    "    assert len(outputs) == len(targets)\n",
    "    \n",
    "    return 0.5 * np.sum(np.square(outputs - targets))"
   ]
  },
  {
   "cell_type": "markdown",
   "metadata": {},
   "source": [
    "## Aim: fit `[0.5 * sin(x) for x in np.linspace(-7, 7, 20)]`."
   ]
  },
  {
   "cell_type": "markdown",
   "metadata": {},
   "source": [
    "### Preparing for MCMC"
   ]
  },
  {
   "cell_type": "code",
   "execution_count": 38,
   "metadata": {
    "collapsed": true
   },
   "outputs": [],
   "source": [
    "def random_move(net: NeuralNetwork, step_length=step_length) -> NeuralNetwork:\n",
    "    result_net = net.copy()\n",
    "    \n",
    "    for layer in result_net.layers:\n",
    "        for perceptron in layer:\n",
    "            perceptron.weights = np.array([weight + gauss(0, 1) * 1\n",
    "                                           for weight in perceptron.weights\n",
    "                                          ])\n",
    "    return result_net"
   ]
  },
  {
   "cell_type": "code",
   "execution_count": 34,
   "metadata": {
    "collapsed": false
   },
   "outputs": [
    {
     "name": "stdout",
     "output_type": "stream",
     "text": [
      "[ 0.01193646 -0.03305072 -0.01886215  0.02916268  0.02731315  0.01411343]\n",
      "[1, 1, 1, 1, 1, 1]\n"
     ]
    }
   ],
   "source": [
    "p = Perceptron(5)\n",
    "print(p.weights)\n",
    "\n",
    "p.weights = [1 for weight in p.weights]\n",
    "print(p.weights)"
   ]
  },
  {
   "cell_type": "code",
   "execution_count": 43,
   "metadata": {
    "collapsed": false
   },
   "outputs": [
    {
     "name": "stdout",
     "output_type": "stream",
     "text": [
      "[1 1]\n"
     ]
    },
    {
     "data": {
      "text/plain": [
       "[[array([ 0.02507894,  0.0201661 ]), array([-0.03505475,  0.03984515])],\n",
       " [array([-0.03317513, -0.02975945,  0.02151422])]]"
      ]
     },
     "execution_count": 43,
     "metadata": {},
     "output_type": "execute_result"
    }
   ],
   "source": [
    "result_net = init_net.copy()\n",
    "    \n",
    "result_net.layers[0][0].weights = np.array([1 for w in p.weights])\n",
    "print(result_net.layers[0][0].weights)        \n",
    "result_net.weights"
   ]
  },
  {
   "cell_type": "code",
   "execution_count": 39,
   "metadata": {
    "collapsed": false
   },
   "outputs": [
    {
     "name": "stdout",
     "output_type": "stream",
     "text": [
      "[[array([ 0.02507894,  0.0201661 ]), array([-0.03505475,  0.03984515])], [array([-0.03317513, -0.02975945,  0.02151422])]]\n",
      "\n",
      "[[array([ 0.02507894,  0.0201661 ]), array([-0.03505475,  0.03984515])], [array([-0.03317513, -0.02975945,  0.02151422])]]\n"
     ]
    }
   ],
   "source": [
    "init_net = NeuralNetwork(net_size, input_size)\n",
    "print(init_net.weights)\n",
    "\n",
    "print()\n",
    "new_net = random_move(init_net, 1)\n",
    "print(new_net.weights)"
   ]
  },
  {
   "cell_type": "code",
   "execution_count": 7,
   "metadata": {
    "collapsed": false
   },
   "outputs": [
    {
     "ename": "AttributeError",
     "evalue": "'list' object has no attribute 'perceptrons'",
     "output_type": "error",
     "traceback": [
      "\u001b[0;31m---------------------------------------------------------------------------\u001b[0m",
      "\u001b[0;31mAttributeError\u001b[0m                            Traceback (most recent call last)",
      "\u001b[0;32m<ipython-input-7-7432b49b1deb>\u001b[0m in \u001b[0;36m<module>\u001b[0;34m()\u001b[0m\n\u001b[1;32m      3\u001b[0m \u001b[0;34m\u001b[0m\u001b[0m\n\u001b[1;32m      4\u001b[0m \u001b[0mlayer\u001b[0m \u001b[0;34m=\u001b[0m \u001b[0mresult_net\u001b[0m\u001b[0;34m.\u001b[0m\u001b[0mlayers\u001b[0m\u001b[0;34m[\u001b[0m\u001b[0;36m0\u001b[0m\u001b[0;34m]\u001b[0m\u001b[0;34m\u001b[0m\u001b[0m\n\u001b[0;32m----> 5\u001b[0;31m \u001b[0mperceptron\u001b[0m \u001b[0;34m=\u001b[0m \u001b[0mlayer\u001b[0m\u001b[0;34m.\u001b[0m\u001b[0mperceptrons\u001b[0m\u001b[0;34m[\u001b[0m\u001b[0;36m0\u001b[0m\u001b[0;34m]\u001b[0m\u001b[0;34m\u001b[0m\u001b[0m\n\u001b[0m\u001b[1;32m      6\u001b[0m \u001b[0mprint\u001b[0m\u001b[0;34m(\u001b[0m\u001b[0mperceptron\u001b[0m\u001b[0;34m.\u001b[0m\u001b[0mweights\u001b[0m\u001b[0;34m)\u001b[0m\u001b[0;34m\u001b[0m\u001b[0m\n\u001b[1;32m      7\u001b[0m \u001b[0mperceptron\u001b[0m\u001b[0;34m.\u001b[0m\u001b[0mweights\u001b[0m \u001b[0;34m=\u001b[0m \u001b[0;34m[\u001b[0m\u001b[0m__\u001b[0m \u001b[0;34m+\u001b[0m \u001b[0mgauss\u001b[0m\u001b[0;34m(\u001b[0m\u001b[0;36m0\u001b[0m\u001b[0;34m,\u001b[0m \u001b[0;36m1\u001b[0m\u001b[0;34m)\u001b[0m \u001b[0;34m*\u001b[0m \u001b[0;36m1\u001b[0m \u001b[0;32mfor\u001b[0m \u001b[0m__\u001b[0m \u001b[0;32min\u001b[0m \u001b[0mperceptron\u001b[0m\u001b[0;34m.\u001b[0m\u001b[0mweights\u001b[0m\u001b[0;34m]\u001b[0m\u001b[0;34m\u001b[0m\u001b[0m\n",
      "\u001b[0;31mAttributeError\u001b[0m: 'list' object has no attribute 'perceptrons'"
     ]
    }
   ],
   "source": [
    "init_net = NeuralNetwork(net_size, input_size)\n",
    "result_net = init_net.copy()\n",
    "\n",
    "layer = result_net.layers[0]\n",
    "perceptron = layer.perceptrons[0]\n",
    "print(perceptron.weights)\n",
    "perceptron.weights = [__ + gauss(0, 1) * 1 for __ in perceptron.weights]\n",
    "print(perceptron.weights)"
   ]
  },
  {
   "cell_type": "code",
   "execution_count": null,
   "metadata": {
    "collapsed": false
   },
   "outputs": [],
   "source": []
  },
  {
   "cell_type": "markdown",
   "metadata": {},
   "source": [
    "Function to maximize:"
   ]
  },
  {
   "cell_type": "code",
   "execution_count": null,
   "metadata": {
    "collapsed": true
   },
   "outputs": [],
   "source": [
    "# Input\n",
    "x = np.linspace(-7, 7, 20)\n",
    "\n",
    "# Target\n",
    "y = np.abs(np.sin(x)) * 0.5\n",
    "\n",
    "\n",
    "def f(net: NeuralNetwork, inputs=x, targets=y) -> Value:\n",
    "        \n",
    "    outputs = np.array([net.output([__])[0] for __ in inputs])\n",
    "    \n",
    "    return error_function(outputs, targets)"
   ]
  },
  {
   "cell_type": "markdown",
   "metadata": {},
   "source": [
    "### New MCMC"
   ]
  },
  {
   "cell_type": "code",
   "execution_count": null,
   "metadata": {
    "collapsed": true
   },
   "outputs": [],
   "source": [
    "def grad(f, net, delta=0.001, threshold=0):\n",
    "    \n",
    "    def move_along_weight_axis(net, position):\n",
    "        \n",
    "        result_net = net.copy()\n",
    "        \n",
    "        layer = position[0]\n",
    "        perceptron = position[1]\n",
    "        weight = position[2]\n",
    "        \n",
    "        result_net.layers[layer].perceptrons[perceptron].weights[weight] += delta\n",
    "        \n",
    "        return result_net\n",
    "    \n",
    "    result = []\n",
    "    \n",
    "    f_value_0 = f(net)\n",
    "    \n",
    "    for i, layer in enumerate(net.layers):\n",
    "        \n",
    "        result_p = []\n",
    "        \n",
    "        for j, perceptron in enumerate(layer.perceptrons):\n",
    "            \n",
    "            result_w = []\n",
    "            \n",
    "            for k, weight in enumerate(perceptron.weights):\n",
    "                \n",
    "                position = [i, j, k]\n",
    "                f_value_1 = f(move_along_weight_axis(net, position))\n",
    "                \n",
    "                delta_f = (f_value_1 - f_value_0) / delta\n",
    "                \n",
    "                if abs(delta_f) < threshold:\n",
    "                    result_w.append(0)\n",
    "                    \n",
    "                else:\n",
    "                    result_w.append(delta_f)\n",
    "                \n",
    "            result_p.append(result_w)\n",
    "            \n",
    "        result.append(result_p)\n",
    "        \n",
    "    return result\n",
    "\n",
    "def minQ(f, net, dela=0.001, tolerence=0.001):\n",
    "    g = grad(f, net, delta)\n",
    "    \n",
    "    result = True\n",
    "    \n",
    "    for i in range(len(g)):\n",
    "        for j in range(len(g[i])):\n",
    "            for k in range(len(g[k])):\n",
    "                \n",
    "                if abs(g[i][j][k]) < tolerence:\n",
    "                    return False\n",
    "    \n",
    "    return result"
   ]
  },
  {
   "cell_type": "code",
   "execution_count": null,
   "metadata": {
    "collapsed": true
   },
   "outputs": [],
   "source": [
    "def mcmc(f, random_move, step_length, init_net0, goal, iterations, threshold=mcmc_threshold):\n",
    "    \n",
    "    \n",
    "    weights = init_net0.weights.copy()\n",
    "    #num_weights = len(np.array(weights).reshape(1,))\n",
    "    \n",
    "    result = []\n",
    "    \n",
    "    init_net = init_net0.copy()\n",
    "    init_value = f(init_net)\n",
    "        \n",
    "    for step in range(iterations):\n",
    "        \n",
    "        reach_the_goal = (abs(init_value) < goal)\n",
    "        \n",
    "        if reach_the_goal:\n",
    "\n",
    "            print('Reach the goal: ', goal)\n",
    "            break\n",
    "        \n",
    "        else:\n",
    "            \n",
    "            new_net = random_move(init_net, step_length)\n",
    "            new_value = f(new_net)\n",
    "            \n",
    "            moveQ = ((new_value - init_value) / (np.sqrt(num_weights) * step_length) < -random() * threshold * 0)\n",
    "            \n",
    "            if moveQ:\n",
    "                init_net = new_net.copy()\n",
    "                init_value = new_value\n",
    "                \n",
    "                result.append((new_net, new_value))\n",
    "                \n",
    "            else:\n",
    "                pass\n",
    "            \n",
    "        if step == iterations - 1:\n",
    "            print('Had not reach the goal when iteration = {0} was exhausted.'.format(iterations))\n",
    "                \n",
    "    return result"
   ]
  },
  {
   "cell_type": "markdown",
   "metadata": {},
   "source": [
    "## Test Single Chain MCMC"
   ]
  },
  {
   "cell_type": "code",
   "execution_count": null,
   "metadata": {
    "collapsed": false,
    "scrolled": true
   },
   "outputs": [],
   "source": [
    "init_net = NeuralNetwork(net_size, input_size)\n",
    "print(grad(f, init_net))\n",
    "\n",
    "aaa = mcmc(f, random_move, 0.1, init_net, 0.001, 10 ** 3)"
   ]
  },
  {
   "cell_type": "code",
   "execution_count": null,
   "metadata": {
    "collapsed": false
   },
   "outputs": [],
   "source": [
    "len(aaa)"
   ]
  },
  {
   "cell_type": "code",
   "execution_count": null,
   "metadata": {
    "collapsed": false
   },
   "outputs": [],
   "source": [
    "new_net = random_move(init_net, 0.05)\n",
    "\n",
    "print(init_net.weights)\n",
    "print(new_net.weights)\n",
    "print()\n",
    "print(grad(f, init_net, threshold=0.001))\n",
    "print(grad(f, new_net, threshold=0.001))"
   ]
  },
  {
   "cell_type": "code",
   "execution_count": null,
   "metadata": {
    "collapsed": false
   },
   "outputs": [],
   "source": [
    "print(aaa[-1][0].weights)\n",
    "print()\n",
    "print(grad(f, aaa[-1][0]))"
   ]
  },
  {
   "cell_type": "markdown",
   "metadata": {},
   "source": [
    "### Do MCMC"
   ]
  },
  {
   "cell_type": "code",
   "execution_count": null,
   "metadata": {
    "collapsed": false
   },
   "outputs": [],
   "source": [
    "# Do mcmc\n",
    "chain_list = []\n",
    "\n",
    "t_begin = time()\n",
    "\n",
    "for step in range(chain_num):\n",
    "    init_net = NeuralNetwork(net_size, input_size)\n",
    "\n",
    "    net_chain = mcmc(f, random_move,\n",
    "                     init_net, 0.001,\n",
    "                     10 ** 5\n",
    "                     )\n",
    "    chain_list.append(net_chain)\n",
    "\n",
    "bc = mc.best_chain(chain_list)\n",
    "best_net = bc[-1][0]\n",
    "ef_value = bc[-1][1]\n",
    "\n",
    "t_end = time()\n",
    "print('time spent by fitting: ', t_end - t_begin)"
   ]
  },
  {
   "cell_type": "code",
   "execution_count": null,
   "metadata": {
    "collapsed": false
   },
   "outputs": [],
   "source": [
    "len(chain_list[0])"
   ]
  },
  {
   "cell_type": "markdown",
   "metadata": {},
   "source": [
    "### Show Result"
   ]
  },
  {
   "cell_type": "code",
   "execution_count": null,
   "metadata": {
    "collapsed": false
   },
   "outputs": [],
   "source": [
    "error_function_values = [__[1] for __ in bc]\n",
    "plt.plot([i for i in range(len(error_function_values))],\n",
    "         error_function_values)\n",
    "plt.xlabel('chain_node of best_chain')\n",
    "plt.ylabel('-1 * error_function_value')\n",
    "plt.show()\n",
    "\n",
    "\n",
    "plot_x = np.linspace(-6.0,6.0,150)\n",
    "plot_y_ann = [best_net.output([__]) for __ in plot_x]\n",
    "plot_y_target = np.abs(np.sin(plot_x)) * 0.5\n",
    "\n",
    "plt.plot(plot_x, plot_y_target, '-',\n",
    "         plot_x, plot_y_ann, '.', alpha = 0.3\n",
    "        )\n",
    "plt.legend(['train target', 'net output'])\n",
    "plt.show()"
   ]
  },
  {
   "cell_type": "markdown",
   "metadata": {},
   "source": [
    "**Far from good.**"
   ]
  },
  {
   "cell_type": "markdown",
   "metadata": {},
   "source": [
    "Further exame"
   ]
  },
  {
   "cell_type": "code",
   "execution_count": null,
   "metadata": {
    "collapsed": false
   },
   "outputs": [],
   "source": [
    "test_net = random_move(best_net, 0.01)\n",
    "\n",
    "print('test: ', f(test_net))\n",
    "print('best: ', f(best_net))\n",
    "\n",
    "print('test of relative gain: ', mc.relative_gain(f(best_net), f(test_net)))"
   ]
  },
  {
   "cell_type": "markdown",
   "metadata": {},
   "source": [
    "### Print out Fitted Weights"
   ]
  },
  {
   "cell_type": "code",
   "execution_count": null,
   "metadata": {
    "collapsed": false
   },
   "outputs": [],
   "source": [
    "for i in range(len(best_net.layers[0])):\n",
    "    print(best_net.layers[0][i].weights)\n",
    "\n",
    "print()\n",
    "\n",
    "for i in range(len(best_net.layers[1])):\n",
    "    print(best_net.layers[1][i].weights)"
   ]
  }
 ],
 "metadata": {
  "kernelspec": {
   "display_name": "Python 3",
   "language": "python",
   "name": "python3"
  },
  "language_info": {
   "codemirror_mode": {
    "name": "ipython",
    "version": 3
   },
   "file_extension": ".py",
   "mimetype": "text/x-python",
   "name": "python",
   "nbconvert_exporter": "python",
   "pygments_lexer": "ipython3",
   "version": "3.6.0"
  }
 },
 "nbformat": 4,
 "nbformat_minor": 2
}
