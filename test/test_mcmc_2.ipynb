{
 "cells": [
  {
   "cell_type": "code",
   "execution_count": 1,
   "metadata": {
    "collapsed": false
   },
   "outputs": [],
   "source": [
    "import sys\n",
    "sys.path.append('../sample/')\n",
    "from ann_2 import NeuralNetwork\n",
    "\n",
    "sys.path.append('../../')\n",
    "from little_mcmc.sample.mcmc import single_chain_mcmc, relative_gain\n",
    "\n",
    "import numpy as np\n",
    "from random import gauss, random\n",
    "from time import time\n",
    "import matplotlib.pyplot as plt"
   ]
  },
  {
   "cell_type": "markdown",
   "metadata": {},
   "source": [
    "Typing Hint:"
   ]
  },
  {
   "cell_type": "code",
   "execution_count": 2,
   "metadata": {
    "collapsed": true
   },
   "outputs": [],
   "source": [
    "from typing import List, Tuple, Mapping\n",
    "\n",
    "Array = np.array(List[float])\n",
    "Value = float"
   ]
  },
  {
   "cell_type": "markdown",
   "metadata": {},
   "source": [
    "### Set global variables:"
   ]
  },
  {
   "cell_type": "code",
   "execution_count": 3,
   "metadata": {
    "collapsed": false
   },
   "outputs": [],
   "source": [
    "# Ann\n",
    "net_size = [5, 1]\n",
    "input_size = 1\n",
    "init_weight_range = [-0.05, 0.05]\n",
    "\n",
    "\n",
    "#MCMC\n",
    "step_length = 0.5\n",
    "mcmc_threshold = 0.01\n",
    "\n",
    "chain_num = 1\n",
    "goal = 0.001\n",
    "iterations = 10 ** 3"
   ]
  },
  {
   "cell_type": "markdown",
   "metadata": {},
   "source": [
    "### Set error-function as, e.g.,"
   ]
  },
  {
   "cell_type": "code",
   "execution_count": 4,
   "metadata": {
    "collapsed": true
   },
   "outputs": [],
   "source": [
    "def error_function(outputs: Array, targets: Array) -> float:\n",
    "    \n",
    "    assert len(outputs) == len(targets)\n",
    "    \n",
    "    return 0.5 * np.sum(np.square(outputs - targets))"
   ]
  },
  {
   "cell_type": "markdown",
   "metadata": {},
   "source": [
    "## Aim: fit `[0.5 * sin(x) for x in np.linspace(-7, 7, 20)]`."
   ]
  },
  {
   "cell_type": "markdown",
   "metadata": {},
   "source": [
    "### Preparing for MCMC"
   ]
  },
  {
   "cell_type": "code",
   "execution_count": 5,
   "metadata": {
    "collapsed": false
   },
   "outputs": [],
   "source": [
    "def random_move(net: NeuralNetwork, step_length=step_length) -> NeuralNetwork:\n",
    "    \n",
    "    result = NeuralNetwork(net.size, net.input_size)\n",
    "    \n",
    "    for l, layer in enumerate(net.weights):\n",
    "        for p, perceptron in enumerate(layer):\n",
    "            for w, weight in enumerate(perceptron):\n",
    "                result.weights[l][p][w] = weight + gauss(0, 1) * step_length\n",
    "    \n",
    "    return result"
   ]
  },
  {
   "cell_type": "markdown",
   "metadata": {},
   "source": [
    "Test:"
   ]
  },
  {
   "cell_type": "code",
   "execution_count": 6,
   "metadata": {
    "collapsed": false
   },
   "outputs": [
    {
     "name": "stdout",
     "output_type": "stream",
     "text": [
      "[[[0.03334316061055381, -0.012583307392157954], [0.004973503348402054, -0.03557069229744772], [-0.024973705739522113, -0.020248192673578958], [0.016863425936670548, 0.033914532249602364], [-0.015304207872032016, -0.021740157612460367]], [[-0.010696380040514673, 0.004096626227990743, 0.034480603808130283, -0.03130701760227292, -0.026294468448447485, 0.04364711280324464]]]\n",
      "[[[0.04946955981673096, 0.15759109853960393], [0.29506829293516684, 0.11021725727752898], [0.2809055797565981, -0.47914587118556273], [0.1073073197122072, 0.2558399302121846], [0.08097943604871717, -0.39871830693064125]], [[0.469912734469433, 0.10998693226400741, 0.2139205988781759, 1.0614724064089813, -0.37444969039337617, -0.02923965270309413]]]\n"
     ]
    }
   ],
   "source": [
    "init_net = NeuralNetwork(net_size, input_size)\n",
    "print(init_net.weights)\n",
    "\n",
    "result_net = random_move(init_net)\n",
    "print(result_net.weights)"
   ]
  },
  {
   "cell_type": "markdown",
   "metadata": {},
   "source": [
    "So far so good."
   ]
  },
  {
   "cell_type": "markdown",
   "metadata": {},
   "source": [
    "Function to maximize:"
   ]
  },
  {
   "cell_type": "code",
   "execution_count": 7,
   "metadata": {
    "collapsed": true
   },
   "outputs": [],
   "source": [
    "# Input\n",
    "x = np.linspace(-7, 7, 20)\n",
    "\n",
    "# Target\n",
    "y = np.sin(x) * 0.5\n",
    "y = np.square(x)\n",
    "\n",
    "\n",
    "def f(net: NeuralNetwork, inputs=x, targets=y) -> Value:\n",
    "        \n",
    "    outputs = np.array([net.outputs([__])[-1][0] for __ in inputs])\n",
    "    \n",
    "    return -1 * error_function(outputs, targets) # so that it has maximum."
   ]
  },
  {
   "cell_type": "markdown",
   "metadata": {},
   "source": [
    "Test"
   ]
  },
  {
   "cell_type": "code",
   "execution_count": 8,
   "metadata": {
    "collapsed": false
   },
   "outputs": [
    {
     "data": {
      "text/plain": [
       "-5666.4378181124093"
      ]
     },
     "execution_count": 8,
     "metadata": {},
     "output_type": "execute_result"
    }
   ],
   "source": [
    "net = NeuralNetwork([2, 1], 1)\n",
    "f(net)"
   ]
  },
  {
   "cell_type": "markdown",
   "metadata": {},
   "source": [
    "So far so good."
   ]
  },
  {
   "cell_type": "markdown",
   "metadata": {},
   "source": [
    "### Gradiant"
   ]
  },
  {
   "cell_type": "code",
   "execution_count": 9,
   "metadata": {
    "collapsed": true
   },
   "outputs": [],
   "source": [
    "def grad(f, net, delta=0.001, threshold=0):\n",
    "    \n",
    "    def move_along_weight_axis(net, position):\n",
    "        \n",
    "        result = net.copy()\n",
    "        \n",
    "        l = position[0]\n",
    "        p = position[1]\n",
    "        w = position[2]\n",
    "        \n",
    "        result.weights[l][p][w] += delta\n",
    "        \n",
    "        return result\n",
    "    \n",
    "    result = []\n",
    "    \n",
    "    f_value_0 = f(net)\n",
    "    \n",
    "    for i, layer in enumerate(net.weights):\n",
    "        \n",
    "        result_p = []\n",
    "        \n",
    "        for j, perceptron in enumerate(layer):\n",
    "            \n",
    "            result_w = []\n",
    "            \n",
    "            for k, weight in enumerate(perceptron):\n",
    "                \n",
    "                position = [i, j, k]\n",
    "                f_value_1 = f(move_along_weight_axis(net, position))\n",
    "                \n",
    "                delta_f = (f_value_1 - f_value_0) / delta\n",
    "                \n",
    "                if abs(delta_f) < threshold:\n",
    "                    result_w.append(0)\n",
    "                    \n",
    "                else:\n",
    "                    result_w.append(delta_f)\n",
    "                \n",
    "            result_p.append(result_w)\n",
    "            \n",
    "        result.append(result_p)\n",
    "        \n",
    "    return result\n",
    "\n",
    "def minQ(f, net, dela=0.001, tolerence=0.001):\n",
    "    g = grad(f, net, delta)\n",
    "    \n",
    "    result = True\n",
    "    \n",
    "    for i in range(len(g)):\n",
    "        for j in range(len(g[i])):\n",
    "            for k in range(len(g[k])):\n",
    "                \n",
    "                if abs(g[i][j][k]) < tolerence:\n",
    "                    return False\n",
    "    \n",
    "    return result"
   ]
  },
  {
   "cell_type": "code",
   "execution_count": 10,
   "metadata": {
    "collapsed": false
   },
   "outputs": [
    {
     "data": {
      "text/plain": [
       "[[[0.0037031513784313574, 0.59478783623490017],\n",
       "  [-0.0004336834535934031, -0.85603814022761071],\n",
       "  [-0.0033812102628871799, -0.63043662066775141],\n",
       "  [-0.0093785447461414151, -0.68799970540567301],\n",
       "  [0.0022672938939649612, 1.035038795635046]],\n",
       " [[43.514970579963119,\n",
       "   43.828829018821125,\n",
       "   44.075533894101682,\n",
       "   44.358434292007587,\n",
       "   44.9703126323584,\n",
       "   87.779177271841036]]]"
      ]
     },
     "execution_count": 10,
     "metadata": {},
     "output_type": "execute_result"
    }
   ],
   "source": [
    "net = NeuralNetwork(net_size, input_size)\n",
    "grad(f, net)"
   ]
  },
  {
   "cell_type": "markdown",
   "metadata": {},
   "source": [
    "## Test Single Chain MCMC"
   ]
  },
  {
   "cell_type": "code",
   "execution_count": 11,
   "metadata": {
    "collapsed": false
   },
   "outputs": [
    {
     "name": "stdout",
     "output_type": "stream",
     "text": [
      "time spent by fitting:  2.872025966644287\n"
     ]
    }
   ],
   "source": [
    "t_begin = time()\n",
    "\n",
    "init_net = NeuralNetwork(net_size, input_size, init_weight_range=init_weight_range)\n",
    "\n",
    "net_chain = single_chain_mcmc(f, random_move, init_net, 0.001, 3000, 10 ** 5)\n",
    "\n",
    "t_end = time()\n",
    "print('time spent by fitting: ', t_end - t_begin)"
   ]
  },
  {
   "cell_type": "markdown",
   "metadata": {},
   "source": [
    "Show and Plot Results:"
   ]
  },
  {
   "cell_type": "code",
   "execution_count": 12,
   "metadata": {
    "collapsed": false
   },
   "outputs": [
    {
     "data": {
      "image/png": "[encoded data removed]",
      "text/plain": [
       "<matplotlib.figure.Figure at 0x11618dcf8>"
      ]
     },
     "metadata": {},
     "output_type": "display_data"
    },
    {
     "data": {
      "image/png": "[encoded data removed]",
      "text/plain": [
       "<matplotlib.figure.Figure at 0x119642908>"
      ]
     },
     "metadata": {},
     "output_type": "display_data"
    },
    {
     "name": "stdout",
     "output_type": "stream",
     "text": [
      "gradient = [[[0.039731105061946437, 0.012079374755558092], [0, 0], [0.0012653572412091307, 0], [0.026157953470828943, 0.0054880665629752912], [-0.034799159038811922, 0.0097542470030020922]], [[0.022368171812559012, 0.02616363599372562, 0.021302881577867083, 0.030803163099335507, 0.017784394003683701, 0.047233010263880715]]].\n"
     ]
    }
   ],
   "source": [
    "error_function_values = [__[1] for __ in net_chain]\n",
    "plt.plot([i for i in range(len(error_function_values))],\n",
    "         error_function_values)\n",
    "plt.xlabel('chain_node')\n",
    "plt.ylabel('-1 * error_function_value')\n",
    "plt.show()\n",
    "\n",
    "\n",
    "best_net = net_chain[-1][0]\n",
    "\n",
    "plot_x = np.linspace(-6.0,6.0,150)\n",
    "plot_y_ann = np.array([best_net.outputs([__])[-1][0] for __ in plot_x])\n",
    "plot_y_target = np.sin(plot_x) * 0.5\n",
    "plot_y_target = np.square(plot_x) * 0.5\n",
    "\n",
    "\n",
    "plt.plot(plot_x, plot_y_target, '-',\n",
    "         plot_x, plot_y_ann, '.', alpha = 0.3\n",
    "        )\n",
    "plt.legend(['train target', 'net output'])\n",
    "plt.show()\n",
    "\n",
    "print(\"gradient = {0}.\".format(grad(f, best_net, threshold=0.001)))"
   ]
  },
  {
   "cell_type": "markdown",
   "metadata": {},
   "source": [
    "Why???"
   ]
  },
  {
   "cell_type": "code",
   "execution_count": 13,
   "metadata": {
    "collapsed": false
   },
   "outputs": [
    {
     "name": "stdout",
     "output_type": "stream",
     "text": [
      "2 1.9322665472e-06\n",
      "3 3.59748129422e-07\n",
      "12 1.37302179956e-06\n",
      "17 2.30294210692e-06\n",
      "21 1.76100752838e-06\n",
      "32 2.69659847666e-06\n",
      "37 2.67486817002e-06\n",
      "38 1.63821405083e-06\n",
      "39 9.79549379575e-07\n",
      "48 2.81422362725e-06\n",
      "49 2.36690612795e-06\n",
      "50 3.08571954153e-06\n",
      "54 1.95931215951e-06\n",
      "57 2.40062653201e-06\n",
      "63 3.34920869321e-06\n",
      "66 5.93511466177e-08\n",
      "68 1.79062359019e-06\n",
      "70 1.12320484471e-07\n",
      "71 1.3039408856e-06\n",
      "78 2.87045687074e-07\n",
      "90 1.78317070464e-07\n",
      "96 3.73819807824e-06\n",
      "97 1.67047153957e-06\n",
      "98 2.06541264642e-06\n"
     ]
    }
   ],
   "source": [
    "for step in range(100):\n",
    "    rg = relative_gain(f(best_net), f(random_move(best_net)))\n",
    "    if rg > 0:\n",
    "        print(step, rg)"
   ]
  },
  {
   "cell_type": "markdown",
   "metadata": {},
   "source": [
    "It seems that the reason is that my `relative_gain` is not suitably defined. Indeed, comparing to gradient, **its order** is quite small."
   ]
  },
  {
   "cell_type": "markdown",
   "metadata": {},
   "source": [
    "Let's move the best_net a little by its gradient:"
   ]
  },
  {
   "cell_type": "code",
   "execution_count": 14,
   "metadata": {
    "collapsed": false
   },
   "outputs": [
    {
     "data": {
      "text/plain": [
       "7.2573401337332016e-07"
      ]
     },
     "execution_count": 14,
     "metadata": {},
     "output_type": "execute_result"
    }
   ],
   "source": [
    "grd = grad(f, best_net, threshold=0.001)\n",
    "\n",
    "grd_net = NeuralNetwork(net_size, input_size)\n",
    "    \n",
    "for l, layer in enumerate(best_net.weights):\n",
    "    for p, perceptron in enumerate(layer):\n",
    "        for w, weight in enumerate(perceptron):\n",
    "            grd_net.weights[l][p][w] = weight + 1 * grd[l][p][w]\n",
    "    \n",
    "relative_gain(f(best_net), f(grd_net))"
   ]
  },
  {
   "cell_type": "markdown",
   "metadata": {},
   "source": [
    "This confirms the previous guess."
   ]
  },
  {
   "cell_type": "markdown",
   "metadata": {},
   "source": [
    "### Comparison: Single Chian GD"
   ]
  },
  {
   "cell_type": "code",
   "execution_count": 15,
   "metadata": {
    "collapsed": false
   },
   "outputs": [],
   "source": [
    "def gd(f, step_length, init_net, threshold=0.001, iterations=10 ** 5):\n",
    "    \n",
    "    result_chain = []\n",
    "    \n",
    "    for step in range(iterations):\n",
    "        grd = grad(f, init_net, threshold=0.001)\n",
    "\n",
    "        grd_net = NeuralNetwork(init_net.size, init_net.input_size)\n",
    "    \n",
    "        for l, layer in enumerate(init_net.weights):\n",
    "            for p, perceptron in enumerate(layer):\n",
    "                for w, weight in enumerate(perceptron):\n",
    "                    grd_net.weights[l][p][w] = weight + step_length * grd[l][p][w]\n",
    "        \n",
    "        init_value = f(init_net)\n",
    "        new_value = f(grd_net)\n",
    "        \n",
    "        if abs(new_value) < threshold:\n",
    "            return result_chain\n",
    "        \n",
    "        else:\n",
    "            result_chain.append((grd_net, new_value))\n",
    "            \n",
    "            init_net = grd_net.copy()\n",
    "        \n",
    "    if step == iterations - 1:\n",
    "        print(\"Iteration Exhausted.\")\n",
    "        \n",
    "    else:\n",
    "        pass\n",
    "            \n",
    "    return result_chain"
   ]
  },
  {
   "cell_type": "code",
   "execution_count": 16,
   "metadata": {
    "collapsed": false
   },
   "outputs": [
    {
     "name": "stdout",
     "output_type": "stream",
     "text": [
      "Iteration Exhausted.\n",
      "time spent by fitting:  19.44237208366394\n"
     ]
    }
   ],
   "source": [
    "t_begin = time()\n",
    "\n",
    "init_net = NeuralNetwork(net_size, input_size, init_weight_range=init_weight_range)\n",
    "\n",
    "net_chain = gd(f, 1, init_net, threshold=0.1, iterations=10 ** 3)\n",
    "\n",
    "t_end = time()\n",
    "print('time spent by fitting: ', t_end - t_begin)"
   ]
  },
  {
   "cell_type": "code",
   "execution_count": 17,
   "metadata": {
    "collapsed": false
   },
   "outputs": [
    {
     "data": {
      "image/png": "[encoded data removed]",
      "text/plain": [
       "<matplotlib.figure.Figure at 0x1198c6a20>"
      ]
     },
     "metadata": {},
     "output_type": "display_data"
    },
    {
     "data": {
      "image/png": "[encoded data removed]",
      "text/plain": [
       "<matplotlib.figure.Figure at 0x1198e9470>"
      ]
     },
     "metadata": {},
     "output_type": "display_data"
    },
    {
     "name": "stdout",
     "output_type": "stream",
     "text": [
      "gradient = [[[0.0, 0.0], [0.0, 0.0], [0.0, 0.0], [0.0, 0.0], [0.0, 0.0]], [[0.0, 0.0, 0.0, 0.0, 0.0, 0.0]]].\n"
     ]
    }
   ],
   "source": [
    "error_function_values = [__[1] for __ in net_chain]\n",
    "plt.plot([i for i in range(len(error_function_values))],\n",
    "         error_function_values)\n",
    "plt.xlabel('chain_node')\n",
    "plt.ylabel('-1 * error_function_value')\n",
    "plt.show()\n",
    "\n",
    "\n",
    "best_net = net_chain[-1][0]\n",
    "\n",
    "plot_x = np.linspace(-6.0,6.0,150)\n",
    "plot_y_ann = np.array([best_net.outputs([__])[-1][0] for __ in plot_x])\n",
    "plot_y_target = np.sin(plot_x) * 0.5\n",
    "plot_y_target = np.square(plot_x) * 0.5\n",
    "\n",
    "\n",
    "plt.plot(plot_x, plot_y_target, '-',\n",
    "         plot_x, plot_y_ann, '.', alpha = 0.3\n",
    "        )\n",
    "plt.legend(['train target', 'net output'])\n",
    "plt.show()\n",
    "\n",
    "print(\"gradient = {0}.\".format(grad(f, best_net, threshold=0.0)))"
   ]
  },
  {
   "cell_type": "code",
   "execution_count": 35,
   "metadata": {
    "collapsed": false
   },
   "outputs": [
    {
     "data": {
      "text/plain": [
       "-5495.4996355153799"
      ]
     },
     "execution_count": 35,
     "metadata": {},
     "output_type": "execute_result"
    }
   ],
   "source": [
    "f(random_move(best_net))"
   ]
  },
  {
   "cell_type": "markdown",
   "metadata": {},
   "source": [
    "By running the previous code multi-times, we find that the best_net, as a local minimum, and is far from global minimum, is **rather** flat!"
   ]
  }
 ],
 "metadata": {
  "kernelspec": {
   "display_name": "Python 3",
   "language": "python",
   "name": "python3"
  },
  "language_info": {
   "codemirror_mode": {
    "name": "ipython",
    "version": 3
   },
   "file_extension": ".py",
   "mimetype": "text/x-python",
   "name": "python",
   "nbconvert_exporter": "python",
   "pygments_lexer": "ipython3",
   "version": "3.6.0"
  }
 },
 "nbformat": 4,
 "nbformat_minor": 2
}
