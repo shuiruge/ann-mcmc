{
 "cells": [
  {
   "cell_type": "code",
   "execution_count": 22,
   "metadata": {
    "collapsed": true
   },
   "outputs": [],
   "source": [
    "import sys\n",
    "sys.path.append('../sample/')\n",
    "from ann import NeuralNetwork\n",
    "\n",
    "sys.path.append('../../')\n",
    "import little_mcmc.sample.mcmc as mc\n",
    "\n",
    "\n",
    "import numpy as np\n",
    "from random import gauss, random\n",
    "from time import time\n",
    "import matplotlib.pyplot as plt"
   ]
  },
  {
   "cell_type": "markdown",
   "metadata": {},
   "source": [
    "Typing Hint:"
   ]
  },
  {
   "cell_type": "code",
   "execution_count": 23,
   "metadata": {
    "collapsed": true
   },
   "outputs": [],
   "source": [
    "from typing import List, Tuple, Mapping\n",
    "\n",
    "Array = np.array(List[float])\n",
    "Value = float"
   ]
  },
  {
   "cell_type": "markdown",
   "metadata": {},
   "source": [
    "### Set global variables:"
   ]
  },
  {
   "cell_type": "code",
   "execution_count": null,
   "metadata": {
    "collapsed": true
   },
   "outputs": [],
   "source": [
    "# Ann\n",
    "net_size = [3, 1]\n",
    "input_size = 1\n",
    "\n",
    "step_length = 0.1\n",
    "\n",
    "chain_num = 50\n",
    "tolerence = 0.01\n",
    "max_break_counter = 30 * np.prod(net_size) * input_size"
   ]
  },
  {
   "cell_type": "markdown",
   "metadata": {},
   "source": [
    "### Set error-function as, e.g.,"
   ]
  },
  {
   "cell_type": "code",
   "execution_count": 24,
   "metadata": {
    "collapsed": true
   },
   "outputs": [],
   "source": [
    "def error_function(outputs: Array, targets: Array) -> float:\n",
    "    return 0.5 * np.sum((outputs - targets) ** 2)"
   ]
  },
  {
   "cell_type": "markdown",
   "metadata": {},
   "source": [
    "## Aim: fit `[sin(x) for x in np.arange(-np.pi, np.pi, 0.1)]`."
   ]
  },
  {
   "cell_type": "markdown",
   "metadata": {},
   "source": [
    "### Preparing for MCMC"
   ]
  },
  {
   "cell_type": "code",
   "execution_count": 26,
   "metadata": {
    "collapsed": true
   },
   "outputs": [],
   "source": [
    "def random_move(net: NeuralNetwork, step_length=step_length) -> NeuralNetwork:\n",
    "    result_net = net.copy()\n",
    "    \n",
    "    for layer in net.layers:\n",
    "        for perceptron in layer:\n",
    "            perceptron.weights = (  perceptron.weights\n",
    "                                  + np.array([ gauss(0, 1) * step_length\n",
    "                                               for _ in range(len(perceptron.weights))])\n",
    "                                 )\n",
    "    \n",
    "    return net"
   ]
  },
  {
   "cell_type": "markdown",
   "metadata": {},
   "source": [
    "Function to maximize:"
   ]
  },
  {
   "cell_type": "code",
   "execution_count": 27,
   "metadata": {
    "collapsed": true
   },
   "outputs": [],
   "source": [
    "# Input\n",
    "x = np.arange(-np.pi, np.pi, 0.1)\n",
    "\n",
    "# Target\n",
    "y = np.sin(x)\n",
    "\n",
    "def f(net: NeuralNetwork, inputs=x, targets=y) -> Value:\n",
    "        \n",
    "    outputs = np.array([net.output([__])[0] for __ in inputs])\n",
    "    \n",
    "    return -1 * error_function(outputs, targets)"
   ]
  },
  {
   "cell_type": "markdown",
   "metadata": {},
   "source": [
    "### Do MCMC"
   ]
  },
  {
   "cell_type": "code",
   "execution_count": 28,
   "metadata": {
    "collapsed": false
   },
   "outputs": [
    {
     "name": "stdout",
     "output_type": "stream",
     "text": [
      "time spent:  19.537328004837036\n"
     ]
    }
   ],
   "source": [
    "# Do mcmc\n",
    "chain_list = []\n",
    "\n",
    "t_begin = time()\n",
    "\n",
    "for step in range(chain_num):\n",
    "    init_net = NeuralNetwork(net_size, input_size)\n",
    "\n",
    "    net_chain = mc.single_chain_mcmc(\n",
    "                     f, random_move, init_net,\n",
    "                     tolerence=tolerence,\n",
    "                     max_break_counter=max_break_counter,\n",
    "                     iterations = 10 ** 10\n",
    "                     )\n",
    "    chain_list.append(net_chain)\n",
    "\n",
    "bc = mc.best_chain(chain_list)\n",
    "best_net, ef_value = bc[-1][0], bc[-1][1]\n",
    "\n",
    "t_end = time()\n",
    "print('time spent: ', t_end - t_begin)"
   ]
  },
  {
   "cell_type": "markdown",
   "metadata": {},
   "source": [
    "### Show Result"
   ]
  },
  {
   "cell_type": "code",
   "execution_count": 29,
   "metadata": {
    "collapsed": false
   },
   "outputs": [
    {
     "data": {
      "image/png": "[encoded data removed]",
      "text/plain": [
       "<matplotlib.figure.Figure at 0x114a9fe80>"
      ]
     },
     "metadata": {},
     "output_type": "display_data"
    },
    {
     "data": {
      "image/png": "[encoded data removed]",
      "text/plain": [
       "<matplotlib.figure.Figure at 0x114a44ba8>"
      ]
     },
     "metadata": {},
     "output_type": "display_data"
    }
   ],
   "source": [
    "error_function_values = [__[1] for __ in bc]\n",
    "plt.plot([i for i in range(len(error_function_values))],\n",
    "         error_function_values)\n",
    "plt.ylabel('error_function_value')\n",
    "plt.show()\n",
    "\n",
    "\n",
    "net_y = [best_net.output([__]) for __ in x]\n",
    "\n",
    "plt.plot(x, y, '-')\n",
    "plt.plot(x, net_y, 'ro', alpha = 0.3)\n",
    "plt.show()"
   ]
  },
  {
   "cell_type": "markdown",
   "metadata": {},
   "source": [
    "**Far from good.**"
   ]
  },
  {
   "cell_type": "markdown",
   "metadata": {},
   "source": [
    "### Print out Fitted Weights"
   ]
  },
  {
   "cell_type": "code",
   "execution_count": 30,
   "metadata": {
    "collapsed": false
   },
   "outputs": [
    {
     "name": "stdout",
     "output_type": "stream",
     "text": [
      "[-0.8325163  -0.54851497]\n",
      "[-0.29685914  0.05149991]\n",
      "[-0.01123035 -0.73653736]\n",
      "\n",
      "[-0.73941466 -1.17055774 -0.66560651 -0.15861705]\n"
     ]
    }
   ],
   "source": [
    "for i in range(len(best_net.layers[0])):\n",
    "    print(best_net.layers[0][i].weights)\n",
    "\n",
    "print()\n",
    "\n",
    "for i in range(len(best_net.layers[1])):\n",
    "    print(best_net.layers[1][i].weights)"
   ]
  }
 ],
 "metadata": {
  "kernelspec": {
   "display_name": "Python 3",
   "language": "python",
   "name": "python3"
  },
  "language_info": {
   "codemirror_mode": {
    "name": "ipython",
    "version": 3
   },
   "file_extension": ".py",
   "mimetype": "text/x-python",
   "name": "python",
   "nbconvert_exporter": "python",
   "pygments_lexer": "ipython3",
   "version": "3.6.0"
  }
 },
 "nbformat": 4,
 "nbformat_minor": 2
}
