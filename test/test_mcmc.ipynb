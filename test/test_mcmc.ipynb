{
 "cells": [
  {
   "cell_type": "code",
   "execution_count": 1,
   "metadata": {
    "collapsed": true
   },
   "outputs": [],
   "source": [
    "import sys\n",
    "sys.path.append('../sample/')\n",
    "from ann import NeuralNetwork\n",
    "\n",
    "sys.path.append('../../') # put `little_mcmc/` in `../../`.\n",
    "import little_mcmc.sample.mcmc as mc\n",
    "\n",
    "\n",
    "import numpy as np\n",
    "from random import gauss, random\n",
    "from time import time\n",
    "import matplotlib.pyplot as plt"
   ]
  },
  {
   "cell_type": "markdown",
   "metadata": {},
   "source": [
    "Typing Hint:"
   ]
  },
  {
   "cell_type": "code",
   "execution_count": 2,
   "metadata": {
    "collapsed": true
   },
   "outputs": [],
   "source": [
    "from typing import List, Tuple, Mapping\n",
    "\n",
    "Array = np.array(List[float])\n",
    "Value = float"
   ]
  },
  {
   "cell_type": "markdown",
   "metadata": {},
   "source": [
    "### Set global variables:"
   ]
  },
  {
   "cell_type": "code",
   "execution_count": 3,
   "metadata": {
    "collapsed": false
   },
   "outputs": [
    {
     "name": "stdout",
     "output_type": "stream",
     "text": [
      "effective_dim:  25\n"
     ]
    }
   ],
   "source": [
    "# Ann\n",
    "net_size = [5, 1]\n",
    "input_size = 1\n",
    "\n",
    "# effective_dim = num_of_connections\n",
    "effective_dim = np.prod(net_size) * (input_size * net_size[0])\n",
    "print('effective_dim: ', effective_dim)\n",
    "\n",
    "step_length = 0.5\n",
    "\n",
    "chain_num = 1 #* effective_dim\n",
    "tolerence = 0.00\n",
    "max_break_counter = 100 * effective_dim"
   ]
  },
  {
   "cell_type": "markdown",
   "metadata": {},
   "source": [
    "### Set error-function as, e.g.,"
   ]
  },
  {
   "cell_type": "code",
   "execution_count": 4,
   "metadata": {
    "collapsed": true
   },
   "outputs": [],
   "source": [
    "def error_function(outputs: Array, targets: Array) -> float:\n",
    "    \n",
    "    assert len(outputs) == len(targets)\n",
    "    \n",
    "    return 0.5 * np.sum(np.square(outputs - targets)) / len(outputs)"
   ]
  },
  {
   "cell_type": "markdown",
   "metadata": {},
   "source": [
    "## Aim: fit `[0.5 * sin(x) for x in np.linspace(-7, 7, 20)]`."
   ]
  },
  {
   "cell_type": "markdown",
   "metadata": {},
   "source": [
    "### Preparing for MCMC"
   ]
  },
  {
   "cell_type": "code",
   "execution_count": 5,
   "metadata": {
    "collapsed": true
   },
   "outputs": [],
   "source": [
    "def random_move(net: NeuralNetwork, step_length=step_length) -> NeuralNetwork:\n",
    "    result_net = net.copy()\n",
    "    \n",
    "    for layer in result_net.layers:\n",
    "        for perceptron in layer:\n",
    "            perceptron.weights = (  perceptron.weights\n",
    "                                  + np.array([ gauss(0, 1) * step_length\n",
    "                                               for _ in range(len(perceptron.weights))])\n",
    "                                 )\n",
    "    \n",
    "    return result_net"
   ]
  },
  {
   "cell_type": "code",
   "execution_count": 7,
   "metadata": {
    "collapsed": false
   },
   "outputs": [
    {
     "name": "stdout",
     "output_type": "stream",
     "text": [
      "[[[-0.012238525726617863, 0.014701860668600047], [-0.0036235942737441323, -0.0017714734742859672], [0.030070041071148815, -0.010644024546527985], [-0.04520577481838545, 0.0030548470587429613], [-0.004087761326031322, -0.00542010800786151]], [[0.03008669241255056, 0.026360643156661936, -0.022225835679516515, -0.009217143713338746, -0.028103291430212098, -0.03561484830815727]]]\n",
      "\n",
      "[[[-0.012238525726617863, 0.014701860668600047], [-0.0036235942737441323, -0.0017714734742859672], [0.030070041071148815, -0.010644024546527985], [-0.04520577481838545, 0.0030548470587429613], [-0.004087761326031322, -0.00542010800786151]], [[0.03008669241255056, 0.026360643156661936, -0.022225835679516515, -0.009217143713338746, -0.028103291430212098, -0.03561484830815727]]]\n"
     ]
    }
   ],
   "source": [
    "init_net = NeuralNetwork(net_size, input_size)\n",
    "print(init_net.weights)\n",
    "\n",
    "print()\n",
    "new_net = random_move(init_net, step_length=1)\n",
    "print(new_net.weights)"
   ]
  },
  {
   "cell_type": "markdown",
   "metadata": {},
   "source": [
    "Function to maximize:"
   ]
  },
  {
   "cell_type": "code",
   "execution_count": 6,
   "metadata": {
    "collapsed": true
   },
   "outputs": [],
   "source": [
    "# Input\n",
    "x = np.linspace(-7, 7, 20)\n",
    "\n",
    "# Target\n",
    "y = np.sin(x) * 0.5\n",
    "\n",
    "\n",
    "def f(net: NeuralNetwork, inputs=x, targets=y) -> Value:\n",
    "        \n",
    "    outputs = np.array([net.output([__])[0] for __ in inputs])\n",
    "    erf = error_function(outputs, targets)\n",
    "    \n",
    "    return -1 * np.log(erf)"
   ]
  },
  {
   "cell_type": "raw",
   "metadata": {},
   "source": [
    "x = np.array([1, 0])\n",
    "y = np.array([2, -5])\n",
    "\n",
    "error_function(x, y)"
   ]
  },
  {
   "cell_type": "markdown",
   "metadata": {},
   "source": [
    "### Do MCMC"
   ]
  },
  {
   "cell_type": "code",
   "execution_count": 7,
   "metadata": {
    "collapsed": false
   },
   "outputs": [
    {
     "name": "stdout",
     "output_type": "stream",
     "text": [
      "time spent by fitting:  11.111337900161743\n"
     ]
    }
   ],
   "source": [
    "# Do mcmc\n",
    "chain_list = []\n",
    "\n",
    "t_begin = time()\n",
    "\n",
    "for step in range(chain_num):\n",
    "    init_net = NeuralNetwork(net_size, input_size)\n",
    "\n",
    "    net_chain = mc.single_chain_mcmc(\n",
    "                     f, random_move, init_net,\n",
    "                     tolerence=tolerence,\n",
    "                     max_break_counter=max_break_counter,\n",
    "                     iterations = 10 ** 10\n",
    "                     )\n",
    "    chain_list.append(net_chain)\n",
    "\n",
    "bc = mc.best_chain(chain_list)\n",
    "best_net = bc[-1][0]\n",
    "ef_value = bc[-1][1]\n",
    "\n",
    "t_end = time()\n",
    "print('time spent by fitting: ', t_end - t_begin)"
   ]
  },
  {
   "cell_type": "markdown",
   "metadata": {},
   "source": [
    "### Show Result"
   ]
  },
  {
   "cell_type": "code",
   "execution_count": 8,
   "metadata": {
    "collapsed": false
   },
   "outputs": [
    {
     "data": {
      "image/png": "[encoded data removed]",
      "text/plain": [
       "<matplotlib.figure.Figure at 0x10e1ba518>"
      ]
     },
     "metadata": {},
     "output_type": "display_data"
    },
    {
     "data": {
      "image/png": "[encoded data removed]",
      "text/plain": [
       "<matplotlib.figure.Figure at 0x10e1ba208>"
      ]
     },
     "metadata": {},
     "output_type": "display_data"
    }
   ],
   "source": [
    "error_function_values = [__[1] for __ in bc]\n",
    "plt.plot([i for i in range(len(error_function_values))],\n",
    "         error_function_values)\n",
    "plt.xlabel('chain_node of best_chain')\n",
    "plt.ylabel('-1 * log(error_function_value)')\n",
    "plt.show()\n",
    "\n",
    "\n",
    "plot_x = np.linspace(-6.0,6.0,150)\n",
    "plot_y_ann = [best_net.output([__]) for __ in plot_x]\n",
    "plot_y_target = np.sin(plot_x) * 0.5\n",
    "\n",
    "plt.plot(plot_x, plot_y_target, '-',\n",
    "         plot_x, plot_y_ann, '.', alpha = 0.3\n",
    "        )\n",
    "plt.legend(['train target', 'net output'])\n",
    "plt.show()"
   ]
  },
  {
   "cell_type": "markdown",
   "metadata": {},
   "source": [
    "**Far from good.**"
   ]
  },
  {
   "cell_type": "markdown",
   "metadata": {},
   "source": [
    "Further exame"
   ]
  },
  {
   "cell_type": "code",
   "execution_count": 9,
   "metadata": {
    "collapsed": false
   },
   "outputs": [
    {
     "name": "stdout",
     "output_type": "stream",
     "text": [
      "test:  3.16828637901\n",
      "best:  3.16922518509\n",
      "test of relative gain:  -0.000148134811364\n"
     ]
    }
   ],
   "source": [
    "test_net = random_move(best_net, 0.01)\n",
    "\n",
    "print('test: ', f(test_net))\n",
    "print('best: ', f(best_net))\n",
    "\n",
    "print('test of relative gain: ', mc.relative_gain(f(best_net), f(test_net)))"
   ]
  },
  {
   "cell_type": "markdown",
   "metadata": {},
   "source": [
    "### Print out Fitted Weights"
   ]
  },
  {
   "cell_type": "code",
   "execution_count": 10,
   "metadata": {
    "collapsed": false
   },
   "outputs": [
    {
     "name": "stdout",
     "output_type": "stream",
     "text": [
      "[ 1.97831267  4.63376738]\n",
      "[-2.87947848  8.27139353]\n",
      "[-6.47137095 -0.66589939]\n",
      "[ 5.74124984 -0.69394969]\n",
      "[-1.94481334  2.3541758 ]\n",
      "\n",
      "[-6.72909349  7.55430645 -3.6069043   3.24701081 -2.51953039 -2.8617631 ]\n"
     ]
    }
   ],
   "source": [
    "for i in range(len(best_net.layers[0])):\n",
    "    print(best_net.layers[0][i].weights)\n",
    "\n",
    "print()\n",
    "\n",
    "for i in range(len(best_net.layers[1])):\n",
    "    print(best_net.layers[1][i].weights)"
   ]
  }
 ],
 "metadata": {
  "kernelspec": {
   "display_name": "Python 3",
   "language": "python",
   "name": "python3"
  },
  "language_info": {
   "codemirror_mode": {
    "name": "ipython",
    "version": 3
   },
   "file_extension": ".py",
   "mimetype": "text/x-python",
   "name": "python",
   "nbconvert_exporter": "python",
   "pygments_lexer": "ipython3",
   "version": "3.6.0"
  }
 },
 "nbformat": 4,
 "nbformat_minor": 2
}
